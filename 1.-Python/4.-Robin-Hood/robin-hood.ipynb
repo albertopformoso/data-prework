{
 "cells": [
  {
   "cell_type": "markdown",
   "metadata": {},
   "source": [
    "<img src=\"https://bit.ly/2VnXWr2\" width=\"100\" align=\"left\"/>"
   ]
  },
  {
   "cell_type": "markdown",
   "metadata": {},
   "source": [
    "# Robin Hood\n",
    "Robin Hood has entered a competition to win the archery contest in Sherwood. With his bow and arrows, he needs to shoot on a target and try to hit as close as possible to the center.\n",
    "\n",
    "![](images/arrows.jpg)\n",
    "\n",
    "## Context\n",
    "In this challenge, the landing position of arrows shot by archers in the competition will be represented using 2-dimensional coordinates. \n",
    "\n",
    "In the 2-dimensional space, a point can be defined by a pair of values that correspond to the horizontal coordinate (x) and the vertical coordinate (y). For example, in our case, an arrow that hits the center of the archery target will land in position (0, 0) on the coordinate axes. \n",
    "\n",
    "The space can be divided into 4 zones (quadrants): Q1, Q2, Q3, Q4. If a point is in Q1, both its x coordinate and y coordinate are positive. Any point with a null x or y coordinate is considered to not belong to any quadrant. \n",
    "\n",
    "If you want to know more about the cartesian coordinate system, you can check this [link](https://en.wikipedia.org/wiki/Cartesian_coordinate_system). \n",
    "\n",
    "## Tools\n",
    "You don't necessarily need to use all the tools. Maybe you opt to use some of them or completely different ones, they are given to help you shape the exercise. Programming exercises can be solved in many different ways.\n",
    "* Data structures: **lists, sets, tuples**\n",
    "* Conditional statements: **if-elif-else**\n",
    "* Loop: **while/for**\n",
    "* Minimum (optional sorting)\n",
    "\n",
    "## Tasks\n",
    "Robin Hood has hit the following points:"
   ]
  },
  {
   "cell_type": "code",
   "execution_count": 194,
   "metadata": {},
   "outputs": [],
   "source": [
    "points = [(4, 5), (-0, 2), (4, 7), (1, -3), (3, -2), (4, 5), (3, 2), (5, 7), (-5, 7), (2, 2), (-4, 5), (0, -2),\n",
    "          (-4, 7), (-1, 3), (-3, 2), (-4, -5), (-3, 2), (5, 7), (5, 7), (2, 2), (9, 9), (-8, -9)]"
   ]
  },
  {
   "cell_type": "markdown",
   "metadata": {},
   "source": [
    "#### 1. Robin Hood is famous for hitting an arrow with another arrow. Find the coordinates of the points where an arrow hits another arrow."
   ]
  },
  {
   "cell_type": "code",
   "execution_count": 195,
   "metadata": {},
   "outputs": [
    {
     "name": "stdout",
     "output_type": "stream",
     "text": [
      "The coordinates where an arrow hits another arrow are: [(4, 5), (5, 7), (2, 2), (-3, 2)]\n"
     ]
    }
   ],
   "source": [
    "import collections\n",
    "arrow_hit = []\n",
    "arrow_hit = [item for item, count in collections.Counter(points).items() if count > 1]\n",
    "\n",
    "print(\"The coordinates where an arrow hits another arrow are:\", arrow_hit)"
   ]
  },
  {
   "cell_type": "markdown",
   "metadata": {},
   "source": [
    "#### 2. Calculate how many arrows have fallen in each quadrant. \n",
    "**Note**: the arrows that fall in the axis (x=0 or y=0) don't belong to any quadrant."
   ]
  },
  {
   "cell_type": "code",
   "execution_count": 196,
   "metadata": {},
   "outputs": [
    {
     "name": "stdout",
     "output_type": "stream",
     "text": [
      "11 arrows in quadrant 1\n",
      "6 arrows in quadrant 2\n",
      "2 arrows in quadrant 3\n",
      "3 arrows in quadrant 4\n"
     ]
    }
   ],
   "source": [
    "#q1 ++, q2 -+, q3 --, q4 +-\n",
    "q1 = 0\n",
    "q2 = 0\n",
    "q3 = 0\n",
    "q4 = 0\n",
    "i = 0\n",
    "for x in points:\n",
    "\n",
    "    if points[i][0] >= 0:\n",
    "        if points[i][1] >= 0:\n",
    "            q1 += 1\n",
    "        else:\n",
    "            q4 += 1\n",
    "    elif points[i][0] <= 0:\n",
    "        if points[i][1] >= 0:\n",
    "            q2 += 1\n",
    "        else:\n",
    "            q3 += 1\n",
    "    i += 1\n",
    "print(q1,\"arrows in quadrant 1\")\n",
    "print(q2,\"arrows in quadrant 2\")\n",
    "print(q3,\"arrows in quadrant 3\")\n",
    "print(q4,\"arrows in quadrant 4\")"
   ]
  },
  {
   "cell_type": "markdown",
   "metadata": {},
   "source": [
    "#### 3. Find the point closest to the center. Calculate its distance to the center. \n",
    "Take into account that there might be more than one point at the minimum distance to the center.\n",
    "\n",
    "**Hint**: Use the Euclidean distance. You can find more information about it [here](https://en.wikipedia.org/wiki/Euclidean_distance).  \n",
    "**Hint**: Defining a function that calculates the distance to the center can help."
   ]
  },
  {
   "cell_type": "code",
   "execution_count": 197,
   "metadata": {},
   "outputs": [
    {
     "name": "stdout",
     "output_type": "stream",
     "text": [
      "The closest distance(s) to the center is/are: [(0, 2), (0, -2)]\n"
     ]
    }
   ],
   "source": [
    "import math\n",
    "xa = 0\n",
    "xb = 0\n",
    "ya = 0\n",
    "yb = 0\n",
    "i = 0\n",
    "distance_values = []\n",
    "for z in points:\n",
    "    xb = points[i][0]\n",
    "    ya = points[i][1]\n",
    "    dist = round(math.sqrt((xa-xb)**2 + (ya-yb)**2),2)\n",
    "    distance_values.append(dist)\n",
    "    i += 1\n",
    "#print(distance_values)\n",
    "#####################################################################\n",
    "#closest = min(distance_values, key=lambda x:abs(x-0))\n",
    "#def duplicates(lst, item):\n",
    "#    return [i for i, x in enumerate(lst) if x == item]\n",
    "#\n",
    "#dictionary = dict((closest, duplicates(distance_values, closest)) for x in set(distance_values) if distance_values.count(x) > 1)\n",
    "#result = list(dictionary.values())\n",
    "#print(result)\n",
    "########################################################################\n",
    "a = 0\n",
    "closest = min(distance_values, key=lambda x:abs(x-0))\n",
    "index = [i for i in range(len(distance_values)) if distance_values[i] == closest]\n",
    "#print(index)\n",
    "\n",
    "values = []\n",
    "i = 0\n",
    "for z in index:\n",
    "    a = points[index[i]]\n",
    "    values.append(a)\n",
    "    i += 1\n",
    "print(\"The closest distance(s) to the center is/are:\",values)"
   ]
  },
  {
   "cell_type": "markdown",
   "metadata": {},
   "source": [
    "#### 4. If the archery target has a radius of 9, calculate the number of arrows that won't hit the target. \n",
    "**Hint**: Use the function created in step 3. "
   ]
  },
  {
   "cell_type": "code",
   "execution_count": 198,
   "metadata": {},
   "outputs": [
    {
     "name": "stdout",
     "output_type": "stream",
     "text": [
      "2 arrows won't hit the target\n"
     ]
    }
   ],
   "source": [
    "xa = 0\n",
    "xb = 0\n",
    "ya = 0\n",
    "yb = 0\n",
    "i = 0\n",
    "out = 0\n",
    "for z in points:\n",
    "    xb = points[i][0]\n",
    "    ya = points[i][1]\n",
    "    dist = round(math.sqrt((xa-xb)**2 + (ya-yb)**2),2)\n",
    "    if dist > 9:\n",
    "        out += 1\n",
    "    i += 1\n",
    "print(out,\"arrows won't hit the target\")"
   ]
  },
  {
   "cell_type": "code",
   "execution_count": null,
   "metadata": {},
   "outputs": [],
   "source": []
  }
 ],
 "metadata": {
  "kernelspec": {
   "display_name": "Python 3",
   "language": "python",
   "name": "python3"
  },
  "language_info": {
   "codemirror_mode": {
    "name": "ipython",
    "version": 3
   },
   "file_extension": ".py",
   "mimetype": "text/x-python",
   "name": "python",
   "nbconvert_exporter": "python",
   "pygments_lexer": "ipython3",
   "version": "3.7.6"
  }
 },
 "nbformat": 4,
 "nbformat_minor": 2
}
