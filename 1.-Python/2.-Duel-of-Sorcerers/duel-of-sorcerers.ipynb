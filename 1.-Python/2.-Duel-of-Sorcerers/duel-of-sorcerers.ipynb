{
 "cells": [
  {
   "cell_type": "markdown",
   "metadata": {},
   "source": [
    "<img src=\"https://bit.ly/2VnXWr2\" width=\"100\" align=\"left\">"
   ]
  },
  {
   "cell_type": "markdown",
   "metadata": {},
   "source": [
    "# Duel of Sorcerers\n",
    "You are witnessing an epic battle between two powerful sorcerers: Gandalf and Saruman. Each sorcerer has 10 spells of variable power in their mind and they are going to throw them one after the other. The winner of the duel will be the one who wins more of those clashes between spells. Spells are represented as a list of 10 integers whose value equals the power of the spell.\n",
    "```\n",
    "gandalf = [10, 11, 13, 30, 22, 11, 10, 33, 22, 22]\n",
    "saruman = [23, 66, 12, 43, 12, 10, 44, 23, 12, 17]\n",
    "```\n",
    "For example:\n",
    "- The first clash is won by Saruman: 10 against 23.\n",
    "- The second clash is won by Saruman: 11 against 66.\n",
    "- ...\n",
    "\n",
    "You will create two variables, one for each sorcerer, where the sum of clashes won will be stored. Depending on which variable is greater at the end of the duel, you will show one of the following three results on the screen:\n",
    "* Gandalf wins\n",
    "* Saruman wins\n",
    "* Tie\n",
    "\n",
    "<img src=\"images/content_lightning_bolt_big.jpg\" width=\"400\">"
   ]
  },
  {
   "cell_type": "markdown",
   "metadata": {},
   "source": [
    "## Tools\n",
    "You don't necessarily need to use all the tools. Maybe you opt to use some of them or completely different ones, they are given to help you shape the exercise. Programming exercises can be solved in many different ways.\n",
    "\n",
    "1. Data structures: **lists, dictionaries**\n",
    "2. Loop: **for loop**\n",
    "3. Conditional statements: **if-elif-else**\n",
    "4. Functions: **range(), len(), print()**\n",
    "\n",
    "## Tasks\n",
    "\n",
    "#### 1. Create two variables called `gandalf` and `saruman` and assign them the spell power lists. Create a variable called `spells` to store the number of spells that the sorcerers cast. "
   ]
  },
  {
   "cell_type": "code",
   "execution_count": 6,
   "metadata": {},
   "outputs": [],
   "source": [
    "gandalf = [10, 11, 13, 30, 22, 11, 10, 33, 22, 22]\n",
    "saruman = [23, 66, 12, 43, 12, 10, 44, 23, 12, 17]\n",
    "spells = len(gandalf)"
   ]
  },
  {
   "cell_type": "markdown",
   "metadata": {},
   "source": [
    "#### 2. Create two variables called `gandalf_wins` and `saruman_wins`. Set both of them to 0. \n",
    "You will use these variables to count the number of clashes each sorcerer wins. "
   ]
  },
  {
   "cell_type": "code",
   "execution_count": 15,
   "metadata": {},
   "outputs": [],
   "source": [
    "gandalf_wins = 0 \n",
    "saruman_wins = 0\n",
    "tie = 0"
   ]
  },
  {
   "cell_type": "markdown",
   "metadata": {},
   "source": [
    "#### 3. Using the lists of spells of both sorcerers, update variables `gandalf_wins` and `saruman_wins` to count the number of times each sorcerer wins a clash. "
   ]
  },
  {
   "cell_type": "code",
   "execution_count": 17,
   "metadata": {},
   "outputs": [],
   "source": [
    "for spell in range(0,spells):\n",
    "    if gandalf[spell]>saruman[spell]:\n",
    "        gandalf_wins += 1\n",
    "    elif saruman[spell]>gandalf[spell]:\n",
    "        saruman_wins += 1\n",
    "    elif saruman[spell] == gandalf[spell]:\n",
    "        tie += 1"
   ]
  },
  {
   "cell_type": "markdown",
   "metadata": {},
   "source": [
    "#### 4. Who won the battle?\n",
    "Print `Gandalf wins`, `Saruman wins` or `Tie` depending on the result. "
   ]
  },
  {
   "cell_type": "code",
   "execution_count": 18,
   "metadata": {},
   "outputs": [
    {
     "name": "stdout",
     "output_type": "stream",
     "text": [
      "Gandalf wins\n"
     ]
    }
   ],
   "source": [
    "if gandalf_wins > saruman_wins:\n",
    "    print(\"Gandalf wins\")\n",
    "elif saruman_wins > gandalf_wins:\n",
    "    print(\"Saruman wins\")\n",
    "elif gandalf_wins == saruman_wins:\n",
    "    print(\"Tie\")"
   ]
  },
  {
   "cell_type": "markdown",
   "metadata": {},
   "source": [
    "## Bonus\n",
    "\n",
    "In this bonus challenge, you'll need to check the winner of the battle but this time, a sorcerer wins if he succeeds in winning 3 spell clashes in a row.\n",
    "\n",
    "Also, the spells now have a name and there is a dictionary that associates that name to a power.\n",
    "\n",
    "```\n",
    "POWER = {\n",
    "    'Fireball': 50, \n",
    "    'Lightning bolt': 40, \n",
    "    'Magic arrow': 10, \n",
    "    'Black Tentacles': 25, \n",
    "    'Contagion': 45\n",
    "}\n",
    "\n",
    "gandalf = ['Fireball', 'Lightning bolt', 'Lightning bolt', 'Magic arrow', 'Fireball', \n",
    "           'Magic arrow', 'Lightning bolt', 'Fireball', 'Fireball', 'Fireball']\n",
    "saruman = ['Contagion', 'Contagion', 'Black Tentacles', 'Fireball', 'Black Tentacles', \n",
    "           'Lightning bolt', 'Magic arrow', 'Contagion', 'Magic arrow', 'Magic arrow']\n",
    "```\n",
    "\n",
    "#### 1. Create variables `POWER`, `gandalf` and `saruman` as seen above. Create a variable called `spells` to store the number of spells that the sorcerers cast. "
   ]
  },
  {
   "cell_type": "code",
   "execution_count": 88,
   "metadata": {},
   "outputs": [],
   "source": [
    "POWER = {'Fireball':50, 'Lightining bolt': 40, 'Magic arrow': 10, 'Black Tentacles': 25, 'Contagion': 45}\n",
    "gandalf = ['Fireball', 'Lightining bolt', 'Lightining bolt', 'Magic arrow', 'Fireball', \n",
    "           'Magic arrow', 'Lightining bolt', 'Fireball', 'Fireball', 'Fireball']\n",
    "saruman = ['Contagion', 'Contagion', 'Black Tentacles', 'Fireball', 'Black Tentacles', \n",
    "           'Lightining bolt', 'Magic arrow', 'Contagion', 'Magic arrow', 'Magic arrow']\n",
    "spells = len(gandalf)"
   ]
  },
  {
   "cell_type": "markdown",
   "metadata": {},
   "source": [
    "#### 2. Create two variables called `gandalf_wins` and `saruman_wins`. Set both of them to 0. "
   ]
  },
  {
   "cell_type": "code",
   "execution_count": 89,
   "metadata": {},
   "outputs": [],
   "source": [
    "gandalf_wins = 0\n",
    "saruman_wins = 0"
   ]
  },
  {
   "cell_type": "markdown",
   "metadata": {},
   "source": [
    "#### 3. Create two variables called `gandalf_power` and `saruman_power` to store the list of spell powers of each sorcerer."
   ]
  },
  {
   "cell_type": "code",
   "execution_count": 90,
   "metadata": {},
   "outputs": [
    {
     "name": "stdout",
     "output_type": "stream",
     "text": [
      "[50, 40, 40, 10, 50, 10, 40, 50, 50, 50]\n",
      "[45, 45, 25, 50, 25, 40, 10, 45, 10, 10]\n"
     ]
    }
   ],
   "source": [
    "#gandalf_power = [50, 40, 40, 10, 50, 10, 40, 50, 50, 50]\n",
    "#saruman_power = [45, 45, 25, 50, 25, 40, 10, 45, 10, 10]\n",
    "gandalf_power = []\n",
    "saruman_power = []\n",
    "for spell in range(spells):\n",
    "    for key in POWER:\n",
    "        if gandalf[spell] == key:\n",
    "            gandalf_power.append(POWER[key])\n",
    "            break\n",
    "    #spell += 1\n",
    "for spell in range(spells):\n",
    "    for key in POWER:\n",
    "        if saruman[spell] == key:\n",
    "            saruman_power.append(POWER[key])\n",
    "            break\n",
    "    #spell += 1        \n",
    "print(gandalf_power[0:10])\n",
    "print(saruman_power[0:10])\n",
    "    "
   ]
  },
  {
   "cell_type": "markdown",
   "metadata": {},
   "source": [
    "#### 4. The battle starts! Using the variables you've created above, code the execution of spell clashes. Remember that a sorcerer wins if he succeeds in winning 3 spell clashes in a row. \n",
    "If a clash ends up in a tie, the counter of wins in a row is not restarted to 0. Remember to print who is the winner of the battle. "
   ]
  },
  {
   "cell_type": "code",
   "execution_count": 91,
   "metadata": {},
   "outputs": [
    {
     "name": "stdout",
     "output_type": "stream",
     "text": [
      "Gandalf Wins\n"
     ]
    }
   ],
   "source": [
    "gandalfbool = False\n",
    "sarumanbool = False\n",
    "for i in range(0,spells):\n",
    "    if gandalf_power[i] > saruman_power[i]:\n",
    "        if gandalfbool == False:\n",
    "            gandalfbool = True\n",
    "            gandalf_wins += 1\n",
    "            saruman_wins = 0\n",
    "        else:\n",
    "            gandalfbool = True\n",
    "            if gandalf_wins == 3:\n",
    "                print(\"Gandalf Wins\")\n",
    "                break\n",
    "            else:\n",
    "                gandalf_wins += 1\n",
    "    elif saruman_power[i] > gandalf_power[i]:\n",
    "        if sarumanbool == False:\n",
    "            sarumanbool = True\n",
    "            saruman_wins += 1\n",
    "            gandalf_wins = 0\n",
    "        else:\n",
    "            sarumanbool = True\n",
    "            if saruman_wins == 3:\n",
    "                print(\"Saruman Wins\")\n",
    "                break\n",
    "            else:\n",
    "                saruman_wins += 1"
   ]
  },
  {
   "cell_type": "markdown",
   "metadata": {},
   "source": [
    "#### 5. Find the average spell power of Gandalf and Saruman. "
   ]
  },
  {
   "cell_type": "code",
   "execution_count": 92,
   "metadata": {},
   "outputs": [
    {
     "name": "stdout",
     "output_type": "stream",
     "text": [
      "The average power of Gandalf is: 39.0 \n",
      "The average power of Saruman is: 30.5\n"
     ]
    }
   ],
   "source": [
    "avg_gandalf = sum(gandalf_power)/len(gandalf_power)\n",
    "avg_saruman = sum(saruman_power)/len(saruman_power)\n",
    "\n",
    "print(\"The average power of Gandalf is:\",avg_gandalf,\"\\nThe average power of Saruman is:\",avg_saruman)"
   ]
  },
  {
   "cell_type": "markdown",
   "metadata": {},
   "source": [
    "#### 6. Find the standard deviation of the spell power of Gandalf and Saruman. "
   ]
  },
  {
   "cell_type": "code",
   "execution_count": 96,
   "metadata": {},
   "outputs": [
    {
     "name": "stdout",
     "output_type": "stream",
     "text": [
      "The standard deviation of Gandalf's power: 15.95\n",
      "The standard deviation of Saruman's power: 16.41\n"
     ]
    }
   ],
   "source": [
    "import math\n",
    "j = 0\n",
    "media_aritmetica = []\n",
    "for i in gandalf_power:\n",
    "    x = (gandalf_power[j] - avg_gandalf)**2\n",
    "    media_aritmetica.append(x)\n",
    "    #print(media_aritmetica[j])\n",
    "    j += 1\n",
    "\n",
    "standard_deviation = math.sqrt(sum(media_aritmetica)/(len(gandalf_power)-1))\n",
    "print(\"The standard deviation of Gandalf's power:\", float(round(standard_deviation,2)))\n",
    "\n",
    "j = 0\n",
    "media_aritmetica = []\n",
    "for i in saruman_power:\n",
    "    x = (saruman_power[j] - avg_saruman)**2\n",
    "    media_aritmetica.append(x)\n",
    "    #print(media_aritmetica[j])\n",
    "    j += 1\n",
    "\n",
    "standard_deviation = math.sqrt(sum(media_aritmetica)/(len(saruman_power)-1))\n",
    "print(\"The standard deviation of Saruman's power:\", float(round(standard_deviation,2)))"
   ]
  },
  {
   "cell_type": "code",
   "execution_count": null,
   "metadata": {},
   "outputs": [],
   "source": []
  }
 ],
 "metadata": {
  "kernelspec": {
   "display_name": "Python 3",
   "language": "python",
   "name": "python3"
  },
  "language_info": {
   "codemirror_mode": {
    "name": "ipython",
    "version": 3
   },
   "file_extension": ".py",
   "mimetype": "text/x-python",
   "name": "python",
   "nbconvert_exporter": "python",
   "pygments_lexer": "ipython3",
   "version": "3.7.6"
  }
 },
 "nbformat": 4,
 "nbformat_minor": 2
}
