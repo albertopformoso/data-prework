{
 "cells": [
  {
   "cell_type": "markdown",
   "metadata": {},
   "source": [
    "<img src=\"https://bit.ly/2VnXWr2\" width=\"100\" align=\"left\">"
   ]
  },
  {
   "cell_type": "markdown",
   "metadata": {},
   "source": [
    "# Temperature Sensor\n",
    "\n",
    "There is a temperature sensor in the processor of your company's server. The company wants to analyze the data provided by the sensor to decide if they should change the cooling system for a better one. As changing the cooling system is expensive and you are an excellent data analyst, you can't make a decision without basis.\n",
    "\n",
    "## Tools\n",
    "You don't necessarily need to use all the tools. Maybe you opt to use some of them or completely different ones, they are given to help you shape the exercise. Programming exercises can be solved in many different ways.\n",
    "1. Data structures: **lists**\n",
    "2. Loops: **list comprehension**\n",
    "3. Functions: **min, max, print, len**\n",
    "4. Conditional statements: **if-elif-else**\n",
    "\n",
    "## Tasks\n",
    "The temperatures measured throughout the 24 hours of a day are:"
   ]
  },
  {
   "cell_type": "code",
   "execution_count": 1,
   "metadata": {},
   "outputs": [],
   "source": [
    "temperatures_C = [33, 66, 65, 0, 59, 60, 62, 64, 70, 76, 80, 81, 80, 83, 90, 79, 61, 53, 50, 49, 53, 48, 45, 39]"
   ]
  },
  {
   "cell_type": "markdown",
   "metadata": {},
   "source": [
    "The first element of the list is the temperature at 12am, the second element is the temperature at 1am, and so on. \n",
    "\n",
    "The company has decided that if one of the following events occurs, then the cooling system needs to be replaced for a new one to avoid damaging the processor.\n",
    "* More than 4 temperatures are greater than or equal to 70ºC.\n",
    "* Any temperature is above 80ºC.\n",
    "* The average temperature exceeds 65ºC.\n",
    "\n",
    "Follow the steps so that you can make the decision.\n",
    "\n",
    "#### 1. Find the minimum temperature of the day and store it in a variable."
   ]
  },
  {
   "cell_type": "code",
   "execution_count": 2,
   "metadata": {},
   "outputs": [],
   "source": [
    "min_temp = min(temperatures_C)"
   ]
  },
  {
   "cell_type": "markdown",
   "metadata": {},
   "source": [
    "#### 2. Find the maximum temperature of the day and store it in a variable."
   ]
  },
  {
   "cell_type": "code",
   "execution_count": 3,
   "metadata": {},
   "outputs": [],
   "source": [
    "max_temp = max(temperatures_C)"
   ]
  },
  {
   "cell_type": "markdown",
   "metadata": {},
   "source": [
    "#### 3. Create a list with the temperatures that are greater than or equal to 70ºC. Store it in a variable."
   ]
  },
  {
   "cell_type": "code",
   "execution_count": 12,
   "metadata": {},
   "outputs": [
    {
     "name": "stdout",
     "output_type": "stream",
     "text": [
      "Temperatures greater than 70°C: [70, 76, 80, 81, 80, 83, 90, 79]\n"
     ]
    }
   ],
   "source": [
    "greater_temps = [i for i in temperatures_C if i >= 70]\n",
    "print(\"Temperatures greater than 70°C:\", greater_temps)"
   ]
  },
  {
   "cell_type": "markdown",
   "metadata": {},
   "source": [
    "#### 4. Find the average temperature of the day and store it in a variable."
   ]
  },
  {
   "cell_type": "code",
   "execution_count": 14,
   "metadata": {},
   "outputs": [
    {
     "name": "stdout",
     "output_type": "stream",
     "text": [
      "The average temperature of the day was: 60.25 °C\n"
     ]
    }
   ],
   "source": [
    "avg_temp = sum(temperatures_C)/len(temperatures_C)\n",
    "print(\"The average temperature of the day was:\",float(round(avg_temp,2)),\"°C\")"
   ]
  },
  {
   "cell_type": "markdown",
   "metadata": {},
   "source": [
    "#### 5. Imagine that there was a sensor failure at 3am and the data for that specific hour was not recorded. How would you estimate the missing value? Replace the current value of the list at 3am for an estimation. "
   ]
  },
  {
   "cell_type": "code",
   "execution_count": 26,
   "metadata": {},
   "outputs": [
    {
     "name": "stdout",
     "output_type": "stream",
     "text": [
      "The estimate of the missing value is: 62 °C\n"
     ]
    }
   ],
   "source": [
    "#Interpolación lineal\n",
    "#y = y0 + ((y1 - y0)/(x1 - x0))(x - x0)\n",
    "#     x0 = 2    y0 = 65\n",
    "#     x  = 3    y = ?\n",
    "#     x1 = 4    y1 = 59\n",
    "\n",
    "y = temperatures_C[2] +((temperatures_C[4] - temperatures_C[2])/(4 - 2))*(3 - 2)\n",
    "temperatures_C[3] = round(y)\n",
    "print(\"The estimate of the missing value is:\",temperatures_C[3],\"°C\")"
   ]
  },
  {
   "cell_type": "markdown",
   "metadata": {},
   "source": [
    "#### 6. Bonus: the maintenance staff is from the United States and does not understand the international metric system. Help them by converting the temperatures from Celsius to Fahrenheit.\n",
    "To know more about temperature conversion check this [link](https://en.wikipedia.org/wiki/Conversion_of_units_of_temperature).\n",
    "\n",
    "**Formula**: \n",
    "\n",
    "$F = 1.8 * C + 32$"
   ]
  },
  {
   "cell_type": "code",
   "execution_count": 36,
   "metadata": {},
   "outputs": [
    {
     "name": "stdout",
     "output_type": "stream",
     "text": [
      "The temperatures in Fahrenheit are: [91.4, 150.8, 149.0, 143.6, 138.2, 140.0, 143.6, 147.2, 158.0, 168.8, 176.0, 177.8, 176.0, 181.4, 194.0, 174.2, 141.8, 127.4, 122.0, 120.2, 127.4, 118.4, 113.0, 102.2]\n"
     ]
    }
   ],
   "source": [
    "temperatures_F = []\n",
    "for i in temperatures_C:\n",
    "    F = 1.8 * i + 32\n",
    "    F = float(round(F,2))\n",
    "    temperatures_F.append(F)\n",
    "\n",
    "print(\"The temperatures in Fahrenheit are:\",temperatures_F)"
   ]
  },
  {
   "cell_type": "markdown",
   "metadata": {},
   "source": [
    "#### 7. Make a decision!\n",
    "Now it's time to make a decision taking into account what you have seen until now. \n",
    "\n",
    "Remember that if one of the following events occurs, then the cooling system needs to be replaced for a new one to avoid damaging the processor.\n",
    "* More than 4 temperatures are greater than or equal to 70ºC.\n",
    "* Any temperature is above 80ºC.\n",
    "* The average temperature exceeds 65ºC.\n",
    "\n",
    "#### To make your decision, check if any of the three conditions above is met. You might need to use some of the variables you created in steps 1 to 6. Print a message to show if the cooling system needs to be changed or not."
   ]
  },
  {
   "cell_type": "code",
   "execution_count": 67,
   "metadata": {},
   "outputs": [
    {
     "name": "stdout",
     "output_type": "stream",
     "text": [
      "The cooling system needs to be changed because there are more than 4 temperatures greater o equeal to 70°C and at least one temperature is above 80°C\n"
     ]
    }
   ],
   "source": [
    "condition1 = False\n",
    "condition2 = False\n",
    "condition3 = False\n",
    "\n",
    "if len(greater_temps) > 4:\n",
    "    condition1 = True\n",
    "\n",
    "for i in temperatures_C:\n",
    "    if i >= 80:\n",
    "        condition2 = True\n",
    "if avg_temp > 65:\n",
    "    condition3 = True\n",
    "    \n",
    "if (condition1 == True) & (condition2 == True) & (condition3 == True):\n",
    "    print(\"The cooling system needs to be changed because all the conditions are exceeded\")\n",
    "elif (condition1 == True) & (condition2 == True):\n",
    "    print(\"The cooling system needs to be changed because there are more than 4 temperatures greater or equeal to 70°C and at least one temperature is above 80°C\")\n",
    "elif condition1 == True:\n",
    "    print(\"The cooling system needs to be changed because there are more than 4 temperatures greater or equeal to 70°C\")\n",
    "else:\n",
    "    print(\"Changing the cooling system is not needed because it is inside the parameters\")"
   ]
  },
  {
   "cell_type": "markdown",
   "metadata": {},
   "source": [
    "## Bonus\n",
    "\n",
    "The company has decided that the decision you made is not valid. They want you to analyze the data again but this time, the conditions that need to be met in order to change the cooling system are different.\n",
    "\n",
    "This time, if one of the following events occurs, then the cooling system needs to be replaced:\n",
    "* The temperature is greater than 70ºC during more than 4 consecutive hours.\n",
    "* Any temperature is above 80ºC.\n",
    "* The average temperature exceeds 65ºC.\n",
    "\n",
    "Follow the steps so that you can make the decision.\n",
    "\n",
    "#### 1. Create a list with the hours where the temperature is greater than 70ºC. Store it in a variable."
   ]
  },
  {
   "cell_type": "code",
   "execution_count": 51,
   "metadata": {},
   "outputs": [],
   "source": [
    "high_temp_hours = [i for i in range(len(temperatures_C)) if temperatures_C[i]>70]"
   ]
  },
  {
   "cell_type": "markdown",
   "metadata": {},
   "source": [
    "#### 2. Check if the list you created in step 1 has more than 4 consecutive hours. "
   ]
  },
  {
   "cell_type": "code",
   "execution_count": 64,
   "metadata": {},
   "outputs": [
    {
     "name": "stdout",
     "output_type": "stream",
     "text": [
      "There are 6 consecutive hours with temps greater than 70°C\n"
     ]
    }
   ],
   "source": [
    "consecutive_temps = 0\n",
    "j = 1\n",
    "for i in high_temp_hours:\n",
    "    #print(i)\n",
    "    #print(high_temp_hours[j-1])\n",
    "    if i == high_temp_hours[j-1]:\n",
    "        consecutive_temps += 1\n",
    "    j += 1\n",
    "consecutive_temps = consecutive_temps - 1\n",
    "print(\"There are\",consecutive_temps,\"consecutive hours with temps greater than 70°C\")"
   ]
  },
  {
   "cell_type": "markdown",
   "metadata": {},
   "source": [
    "#### 3. Make the decision!\n",
    "To make your decision, check if any of the three conditions is met. Print a message to show if the cooling system needs to be changed or not."
   ]
  },
  {
   "cell_type": "code",
   "execution_count": 68,
   "metadata": {},
   "outputs": [
    {
     "name": "stdout",
     "output_type": "stream",
     "text": [
      "The cooling system needs to be changed because there are more than 4 consecutive hours with temperatures greater than 70°C and at least one temperature is above 80°C\n"
     ]
    }
   ],
   "source": [
    "condition1 = False\n",
    "condition2 = False\n",
    "condition3 = False\n",
    "\n",
    "if consecutive_temps > 4:\n",
    "    condition1 = True\n",
    "\n",
    "for i in temperatures_C:\n",
    "    if i >= 80:\n",
    "        condition2 = True\n",
    "if avg_temp > 65:\n",
    "    condition3 = True\n",
    "    \n",
    "if (condition1 == True) & (condition2 == True) & (condition3 == True):\n",
    "    print(\"The cooling system needs to be changed because all the conditions are exceeded\")\n",
    "elif (condition1 == True) & (condition2 == True):\n",
    "    print(\"The cooling system needs to be changed because there are more than 4 consecutive hours with temperatures greater than 70°C and at least one temperature is above 80°C\")\n",
    "elif condition1 == True:\n",
    "    print(\"The cooling system needs to be changed because there are more than 4 consecutive hours with temperatures greater than 70°C\")\n",
    "else:\n",
    "    print(\"Changing the cooling system is not needed because it is inside the parameters\")"
   ]
  },
  {
   "cell_type": "markdown",
   "metadata": {},
   "source": [
    "#### 4. Find the average value of the temperature lists (ºC and ºF). What is the relation between both average values?"
   ]
  },
  {
   "cell_type": "code",
   "execution_count": 73,
   "metadata": {},
   "outputs": [
    {
     "name": "stdout",
     "output_type": "stream",
     "text": [
      "The average temperature in C is: 62.83\n",
      "The average temperature in F is: 145.1\n",
      "Obviously the average number in °F is greater than °C but if we use the F to C formula we obtain the same average\n"
     ]
    }
   ],
   "source": [
    "avg_temp_C = sum(temperatures_C)/len(temperatures_C)\n",
    "avg_temp_F = sum(temperatures_F)/len(temperatures_F)\n",
    "\n",
    "print(\"The average temperature in C is:\", float(round(avg_temp_C,2)))\n",
    "print(\"The average temperature in F is:\", float(round(avg_temp_F,2)))\n",
    "print(\"Obviously the average number in °F is greater than °C but if we use the F to C formula we obtain the same average\")"
   ]
  },
  {
   "cell_type": "markdown",
   "metadata": {},
   "source": [
    "#### 5. Find the standard deviation of the temperature lists (ºC and ºF). What is the relation between both standard deviations?"
   ]
  },
  {
   "cell_type": "code",
   "execution_count": 72,
   "metadata": {},
   "outputs": [
    {
     "name": "stdout",
     "output_type": "stream",
     "text": [
      "The standard deviation of the temps in C: 14.95\n",
      "The standard deviation of the temps in F: 26.91\n",
      "As the numeric values in °F temps are greater, the standard deviation calculated is a little grater than in °C but it mantains a relation between the deviation in °C and °F\n"
     ]
    }
   ],
   "source": [
    "import math\n",
    "#Standard deviation of the temp in C\n",
    "j = 0\n",
    "media_aritmetica = []\n",
    "for i in temperatures_C:\n",
    "    x = (temperatures_C[j] - avg_temp_C)**2\n",
    "    media_aritmetica.append(x)\n",
    "    j += 1\n",
    "\n",
    "standard_deviation = math.sqrt(sum(media_aritmetica)/(len(temperatures_C)-1))\n",
    "print(\"The standard deviation of the temps in C:\", float(round(standard_deviation,2)))\n",
    "#Standard deviation of the temp in F\n",
    "j = 0\n",
    "media_aritmetica = []\n",
    "for i in temperatures_F:\n",
    "    x = (temperatures_F[j] - avg_temp_F)**2\n",
    "    media_aritmetica.append(x)\n",
    "    j += 1\n",
    "\n",
    "standard_deviation = math.sqrt(sum(media_aritmetica)/(len(temperatures_F)-1))\n",
    "print(\"The standard deviation of the temps in F:\", float(round(standard_deviation,2)))\n",
    "print(\"As the numeric values in °F temps are greater, the standard deviation calculated is a little grater than in °C but it mantains a relation between the deviation in °C and °F\")"
   ]
  },
  {
   "cell_type": "code",
   "execution_count": null,
   "metadata": {},
   "outputs": [],
   "source": []
  }
 ],
 "metadata": {
  "kernelspec": {
   "display_name": "Python 3",
   "language": "python",
   "name": "python3"
  },
  "language_info": {
   "codemirror_mode": {
    "name": "ipython",
    "version": 3
   },
   "file_extension": ".py",
   "mimetype": "text/x-python",
   "name": "python",
   "nbconvert_exporter": "python",
   "pygments_lexer": "ipython3",
   "version": "3.7.6"
  }
 },
 "nbformat": 4,
 "nbformat_minor": 2
}
